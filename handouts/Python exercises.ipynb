{
 "cells": [
  {
   "cell_type": "markdown",
   "metadata": {},
   "source": [
    "# Startup\n",
    "\n",
    "1. Don't forget to fetch your class notes repo AND the textbook repo. \n",
    "2. Copy these files from the textbook repo into your class notes/exercises folder:\n",
    "    -  `ledatascifi-2023/handouts/Python exercises.ipynb`\n",
    "    - `ledatascifi-2023/content/01/06_python.ipynb`\n",
    "3. Suggested: Open this exercise file on one side of your Jupyterlab screen and the two files above on the other side of your screen. \n"
   ]
  },
  {
   "cell_type": "markdown",
   "metadata": {},
   "source": [
    "## As you solve the questions below:\n",
    "- use comments to take notes about code you're writing as you figure things out\n",
    "- take big picture notes in the module 1 notes file\n"
   ]
  },
  {
   "cell_type": "markdown",
   "metadata": {},
   "source": [
    "## Python essentials\n",
    "\n",
    "Loosely covers the [python essentials in 1.7.2](https://ledatascifi.github.io/ledatascifi-2023/content/01/06_python.html#python-essentials)"
   ]
  },
  {
   "cell_type": "code",
   "execution_count": 1,
   "metadata": {},
   "outputs": [
    {
     "name": "stdout",
     "output_type": "stream",
     "text": [
      "4\n",
      "-1\n",
      "1.0\n",
      "4\n"
     ]
    },
    {
     "data": {
      "text/plain": [
       "127"
      ]
     },
     "execution_count": 1,
     "metadata": {},
     "output_type": "execute_result"
    }
   ],
   "source": [
    "# this is guided discussion AND practice,\n",
    "# follow along!\n",
    "\n",
    "# start running code from the textbook here\n",
    "# add as many new code cells as you want \n",
    "\n",
    "print(2+2) # addition\n",
    "print(2-3) # subtraction\n",
    "print(2/2) # division\n",
    "print(2*2) #multiplication\n",
    "type(2) #type is a functiom, it says what the thing inside of it is, useful!\n",
    "\n",
    "# q1\n",
    "7643//60 # (//) is floor divison, gets you the int without using int() or round() functions\n",
    "\n",
    "# POWERS: ** NOT ^ , NO CARROTS"
   ]
  },
  {
   "cell_type": "code",
   "execution_count": 2,
   "metadata": {},
   "outputs": [
    {
     "name": "stdout",
     "output_type": "stream",
     "text": [
      "1.9487171000000012\n"
     ]
    }
   ],
   "source": [
    "# q2 $1, 10% return for 7 years = ?\n",
    "print((1*(1+.10)**7)) "
   ]
  },
  {
   "cell_type": "code",
   "execution_count": 3,
   "metadata": {},
   "outputs": [],
   "source": [
    "# parenthesis \n"
   ]
  },
  {
   "cell_type": "code",
   "execution_count": 4,
   "metadata": {},
   "outputs": [
    {
     "name": "stdout",
     "output_type": "stream",
     "text": [
      "True\n",
      "False\n"
     ]
    }
   ],
   "source": [
    "# booleans \n",
    "print(3<=3) \n",
    "print(3!=3)\n",
    " # == (equals), != (not equal), > (greater than), >= (equal or greater than), < (less than), and <= (equal or less than). Each of these prompts Python to evaluate the truth of the comparison and return True or False.\n"
   ]
  },
  {
   "cell_type": "code",
   "execution_count": 5,
   "metadata": {},
   "outputs": [
    {
     "name": "stdout",
     "output_type": "stream",
     "text": [
      "False\n",
      "True\n",
      "True\n",
      "True\n"
     ]
    }
   ],
   "source": [
    "# logic operators: or, and, not\n",
    "# What does or mean? In common parlance, or usually means \"Do you want A or do you want B? (pick one)\". Mathematically, or works like a dad joke - You: \"Dad, are we rich or poor?\" Dad: \"Yes\".\n",
    "# if either side of or is true, then the whole thing is true\n",
    "a = True              # you assign variables by writing: VariableName = Thing. \n",
    "b = False\n",
    "print(a and b)        # if both sides of *and* are true, the whole thing is\n",
    "print(a or b)         # if either side of *or* is true, the whole thing is\n",
    "print(a and not b)    # *not* negates what is after it\n",
    "print(not a or not b) # \"not b\" is true, so the whole thing is true"
   ]
  },
  {
   "cell_type": "code",
   "execution_count": 6,
   "metadata": {},
   "outputs": [],
   "source": [
    "# identity: is, is not\n",
    "# caution: don't use is."
   ]
  },
  {
   "cell_type": "code",
   "execution_count": 7,
   "metadata": {
    "scrolled": true
   },
   "outputs": [],
   "source": [
    "# # An object has\n",
    "# -metadata aka attributes\n",
    "# -methods()\n",
    "\n",
    "# You access the methods and attributes via dots.\n",
    "\n",
    "# -object.method()\n",
    "# -object.attribute"
   ]
  },
  {
   "cell_type": "code",
   "execution_count": 8,
   "metadata": {},
   "outputs": [],
   "source": [
    "x = [1,2,3]"
   ]
  },
  {
   "cell_type": "code",
   "execution_count": 9,
   "metadata": {
    "scrolled": true
   },
   "outputs": [
    {
     "name": "stdout",
     "output_type": "stream",
     "text": [
      "[1, 2, 3, 4]\n"
     ]
    }
   ],
   "source": [
    "x.append(4)\n",
    "x\n",
    "type(x.append)\n",
    "print(x)"
   ]
  },
  {
   "cell_type": "markdown",
   "metadata": {
    "jp-MarkdownHeadingCollapsed": true
   },
   "source": [
    "### Built-in data structures\n",
    "\n",
    "Python has `list`, `tuple`, `dict`, and `set`. Beginners typically rely on lists extensively, but as you progress, you will find that all four are extremely useful, because their unique traits solve different needs.\n",
    "\n",
    "| Type Name | Example                   | Description                            |\n",
    "|-----------|---------------------------|---------------------------------------|\n",
    "| ``list``  | ``[1, 2, 3]``             | Ordered collection                    |\n",
    "| ``tuple`` | ``(1, 2, 3)``             | Immutable ordered collection          |\n",
    "| ``dict``  | ``{'a':1, 'b':2, 'c':3}`` | Unordered (key,value) mapping         |\n",
    "| ``set``   | ``{1, 2, 3}``             | Unordered collection of **unique** values |\n",
    "\n",
    "```{important}\n",
    "[You should absolutely read this](https://nbviewer.jupyter.org/github/jakevdp/WhirlwindTourOfPython/blob/master/06-Built-in-Data-Structures.ipynb) and as you do, try the examples, and throw them into your growing personal cheat sheet. \n",
    "```\n",
    "\n",
    "You need to know \n",
    "- how to define/create an object of each type (the examples above)\n",
    "- access elements within each type \n",
    "- modify elements within each type\n",
    "- add or remove elements from each type\n",
    "- when a set is useful\n",
    "- when a dictionary is useful (as opposed to a list)\n",
    "\n",
    "There are LOTS of functions in python that work on the common object types and the data structures we just introduced. \n",
    "\n",
    "First, let me illustrate the use of `.extend()` vs `.append()` vs `+` for lists:"
   ]
  },
  {
   "cell_type": "markdown",
   "metadata": {},
   "source": [
    "## Exercises (try, pair, share)\n",
    "\n",
    "1. Say hi to the person next to you\n",
    "2. [Try to guess each other's lie](https://github.com/LeDataSciFi/ledatascifi-2025/discussions/4)"
   ]
  },
  {
   "cell_type": "code",
   "execution_count": 10,
   "metadata": {
    "tags": []
   },
   "outputs": [],
   "source": [
    "L=[8, 5, 6, 3, 7]"
   ]
  },
  {
   "cell_type": "markdown",
   "metadata": {
    "slideshow": {
     "slide_type": "subslide"
    }
   },
   "source": [
    "Write code that does the following with  the vector `L`. Discuss with the person next to you as needed:\n",
    "\n",
    "1. Returns the length.\n",
    "1. Returns the largest element.\n",
    "1. Returns the smallest element.\n",
    "1. Returns the total of the vector.\n",
    "2. Returns the first element. See [this awesome answer](https://stackoverflow.com/questions/509211/understanding-slice-notation?rq=1) to learn about \"slicing\" lists in Python. If that link is dead: https://stackoverflow.com/questions/509211/understanding-slice-notation?rq=1 \n",
    "2. Returns the last element.\n",
    "2. Returns the first 2 elements.\n",
    "2. Returns the last 2 elements.\n",
    "2. Returns the odd numbered elements (i.e. [8,6,7].\n",
    "1. Clear your output and restart the kernel, then rerun your code. \n"
   ]
  },
  {
   "cell_type": "code",
   "execution_count": 11,
   "metadata": {
    "slideshow": {
     "slide_type": "subslide"
    },
    "tags": [
     "popout"
    ]
   },
   "outputs": [
    {
     "name": "stdout",
     "output_type": "stream",
     "text": [
      "starting new block\n",
      "I am here\n"
     ]
    }
   ],
   "source": [
    "x = 7\n",
    "if x < 5:       # this is false, obviously,\n",
    "    z = x+2        # so this never runs and \n",
    "    print('I am not here.') # this doesn't print\n",
    "print('starting new block')\n",
    "if x < 5:       # this is false, obviously,\n",
    "    z = x+2        # so this never runs and \n",
    "print('I am here') # this does print"
   ]
  }
 ],
 "metadata": {
  "celltoolbar": "Tags",
  "kernelspec": {
   "display_name": "Python 3 (ipykernel)",
   "language": "python",
   "name": "python3"
  },
  "language_info": {
   "codemirror_mode": {
    "name": "ipython",
    "version": 3
   },
   "file_extension": ".py",
   "mimetype": "text/x-python",
   "name": "python",
   "nbconvert_exporter": "python",
   "pygments_lexer": "ipython3",
   "version": "3.9.21"
  }
 },
 "nbformat": 4,
 "nbformat_minor": 4
}
